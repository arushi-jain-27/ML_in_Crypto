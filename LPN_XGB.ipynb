{
 "cells": [
  {
   "cell_type": "code",
   "execution_count": 1,
   "metadata": {},
   "outputs": [],
   "source": [
    "using CSV, Tables, LinearAlgebra, Random, Gurobi, JuMP, Statistics, Random, Distributions, DataFrames\n"
   ]
  },
  {
   "cell_type": "code",
   "execution_count": 2,
   "metadata": {},
   "outputs": [
    {
     "data": {
      "text/plain": [
       "generateDistribution (generic function with 1 method)"
      ]
     },
     "execution_count": 2,
     "metadata": {},
     "output_type": "execute_result"
    }
   ],
   "source": [
    "function generateDistribution(n, p)\n",
    "    m = floor(Int, n*p)\n",
    "    a = ones(Int, m)\n",
    "    b = zeros(Int, n-m)\n",
    "    res = [a;b]\n",
    "    return shuffle(res)\n",
    "end"
   ]
  },
  {
   "cell_type": "code",
   "execution_count": 3,
   "metadata": {},
   "outputs": [
    {
     "data": {
      "text/plain": [
       "setDepth (generic function with 1 method)"
      ]
     },
     "execution_count": 3,
     "metadata": {},
     "output_type": "execute_result"
    }
   ],
   "source": [
    "function setDepth(n)\n",
    "    if n < 12\n",
    "        return [3, 4, 5]\n",
    "    else\n",
    "        return [4, 5, 6, 7]\n",
    "    end\n",
    "end"
   ]
  },
  {
   "cell_type": "code",
   "execution_count": null,
   "metadata": {},
   "outputs": [],
   "source": [
    "print(\"hello\")"
   ]
  },
  {
   "cell_type": "code",
   "execution_count": 4,
   "metadata": {},
   "outputs": [
    {
     "ename": "LoadError",
     "evalue": "UndefVarError: False not defined",
     "output_type": "error",
     "traceback": [
      "UndefVarError: False not defined",
      "",
      "Stacktrace:",
      " [1] top-level scope",
      "   @ .\\In[4]:18",
      " [2] eval",
      "   @ .\\boot.jl:368 [inlined]",
      " [3] include_string(mapexpr::typeof(REPL.softscope), mod::Module, code::String, filename::String)",
      "   @ Base .\\loading.jl:1428"
     ]
    }
   ],
   "source": [
    "seed = 15095\n",
    "p = 0.05\n",
    "results = zeros(80, 4)\n",
    "num_result = 1\n",
    "for n=[4:2:32;]\n",
    "    test = Matrix(I, n, n);\n",
    "    m = floor(Int,4*n*((0.5-p)^(-2)))\n",
    "    threshold = ceil(Int, m*p + sqrt(n*m))\n",
    "    for ratio in [0, 0.125, 0.25, 0.375, 0.5]\n",
    "        s = generateDistribution(n, ratio)\n",
    "        count = 0\n",
    "        for i=1:25\n",
    "            A = bitrand((m,n))\n",
    "            e = generateDistribution(m, p)\n",
    "            b = (A*s + e).%2;\n",
    "\n",
    "            # Train RF\n",
    "            lnr = IAI.XGBoostClassifier(random_seed=seed) \n",
    "            grid = IAI.GridSearch(lnr, max_depth=setDepth(n), num_rounds=[20, 50, 100])\n",
    "            time = @elapsed IAI.fit!(grid, A, b)\n",
    "            best_lnr = IAI.get_learner(grid)\n",
    "            auc = round(IAI.score(best_lnr, A, b, positive_label=1, criterion=:auc), digits=2)\n",
    "            s_pred = IAI.predict(best_lnr, test);\n",
    "\n",
    "            # Verify Correctness\n",
    "            error = sum((A*s_pred+b).%2)\n",
    "            if error <= threshold\n",
    "                count += 1\n",
    "            end\n",
    "\n",
    "            # Print Result\n",
    "            println(\"For n=$n, ratio=$ratio, threshold=$threshold, key $s, i=$i, auc=$auc, error=$error\")        \n",
    "        end   \n",
    "        result = [n, m, threshold, ratio, count, time]\n",
    "        results[num_result, :] = result\n",
    "        num_result += 1\n",
    "    end\n",
    "end\n",
    "\n",
    "\n"
   ]
  },
  {
   "cell_type": "code",
   "execution_count": null,
   "metadata": {},
   "outputs": [],
   "source": [
    "df = DataFrame(results, :auto)\n",
    "CSV.write(\"results_xgb.csv\",df)"
   ]
  }
 ],
 "metadata": {
  "@webio": {
   "lastCommId": null,
   "lastKernelId": null
  },
  "kernelspec": {
   "display_name": "Julia 1.8.2",
   "language": "julia",
   "name": "julia-1.8"
  },
  "language_info": {
   "file_extension": ".jl",
   "mimetype": "application/julia",
   "name": "julia",
   "version": "1.8.2"
  }
 },
 "nbformat": 4,
 "nbformat_minor": 2
}
